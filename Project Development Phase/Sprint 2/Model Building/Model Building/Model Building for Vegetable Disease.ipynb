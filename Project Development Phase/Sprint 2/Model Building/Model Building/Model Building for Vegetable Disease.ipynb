{
 "cells": [
  {
   "cell_type": "markdown",
   "id": "bfaba27f",
   "metadata": {},
   "source": [
    "# TEAM ID: PNT2022TMID45468"
   ]
  },
  {
   "cell_type": "markdown",
   "id": "5dda32cf",
   "metadata": {},
   "source": [
    "# Model building for vegetable disease"
   ]
  },
  {
   "cell_type": "code",
   "execution_count": 1,
   "id": "5231a02d",
   "metadata": {},
   "outputs": [],
   "source": [
    "from keras.preprocessing.image import ImageDataGenerator\n",
    "train_datagen=ImageDataGenerator(rescale=1./255,shear_range=0.2,zoom_range=0.2,horizontal_flip=True)\n",
    "test_datagen=ImageDataGenerator(rescale=1)"
   ]
  },
  {
   "cell_type": "code",
   "execution_count": 2,
   "id": "247f7397",
   "metadata": {},
   "outputs": [
    {
     "name": "stdout",
     "output_type": "stream",
     "text": [
      "Found 3416 images belonging to 9 classes.\n",
      "Found 11386 images belonging to 9 classes.\n"
     ]
    }
   ],
   "source": [
    "x_test=test_datagen.flow_from_directory(r'C:\\Users\\mstof\\OneDrive\\Desktop\\Dataset\\Dataset Plant Disease\\Veg-dataset\\Veg-dataset\\test_set',target_size=(128,128),batch_size=2,class_mode='categorical')\n",
    "x_train=train_datagen.flow_from_directory(r'C:\\Users\\mstof\\OneDrive\\Desktop\\Dataset\\Dataset Plant Disease\\Veg-dataset\\Veg-dataset\\train_set',target_size=(128,128),batch_size=2,class_mode='categorical')                                       "
   ]
  },
  {
   "cell_type": "code",
   "execution_count": 3,
   "id": "1fc825e6",
   "metadata": {},
   "outputs": [],
   "source": [
    "from keras.models import Sequential\n",
    "from keras.layers import Dense\n",
    "from keras.layers import Convolution2D\n",
    "from keras.layers import MaxPooling2D\n",
    "from keras.layers import Flatten"
   ]
  },
  {
   "cell_type": "code",
   "execution_count": 6,
   "id": "3733e351",
   "metadata": {},
   "outputs": [],
   "source": [
    "model=Sequential()"
   ]
  },
  {
   "cell_type": "code",
   "execution_count": 5,
   "id": "65eb8cba",
   "metadata": {},
   "outputs": [],
   "source": [
    "model.add(Convolution2D(32,(3,3),input_shape=(128,128,3),activation='relu'))"
   ]
  },
  {
   "cell_type": "code",
   "execution_count": 7,
   "id": "86c6e528",
   "metadata": {},
   "outputs": [],
   "source": [
    "model.add(MaxPooling2D(pool_size=(2,2)))"
   ]
  },
  {
   "cell_type": "code",
   "execution_count": 8,
   "id": "5c64bafa",
   "metadata": {},
   "outputs": [],
   "source": [
    "model.add(Flatten())"
   ]
  },
  {
   "cell_type": "code",
   "execution_count": 9,
   "id": "0aa512db",
   "metadata": {},
   "outputs": [],
   "source": [
    "model.add(Dense(units=300,kernel_initializer='uniform',activation='relu'))"
   ]
  },
  {
   "cell_type": "code",
   "execution_count": 10,
   "id": "fc343f00",
   "metadata": {},
   "outputs": [],
   "source": [
    "model.add(Dense(units=150,kernel_initializer='random_uniform',activation='relu'))"
   ]
  },
  {
   "cell_type": "code",
   "execution_count": 11,
   "id": "e7d931d2",
   "metadata": {},
   "outputs": [],
   "source": [
    "model.add(Dense(units=75,kernel_initializer='uniform',activation='relu'))"
   ]
  },
  {
   "cell_type": "code",
   "execution_count": 13,
   "id": "d8e64ee4",
   "metadata": {},
   "outputs": [],
   "source": [
    "model.add(Dense(units=9,kernel_initializer='uniform',activation='softmax'))"
   ]
  },
  {
   "cell_type": "code",
   "execution_count": 14,
   "id": "7721c131",
   "metadata": {},
   "outputs": [],
   "source": [
    "model.compile(loss='categorical_crossentropy',optimizer=\"adam\",metrics=[\"accuracy\"])"
   ]
  },
  {
   "cell_type": "code",
   "execution_count": 15,
   "id": "b2150aca",
   "metadata": {},
   "outputs": [
    {
     "name": "stdout",
     "output_type": "stream",
     "text": [
      "Epoch 1/20\n",
      "89/89 [==============================] - 7s 57ms/step - loss: 2.1835 - accuracy: 0.1348 - val_loss: 2.1823 - val_accuracy: 0.1111\n",
      "Epoch 2/20\n",
      "89/89 [==============================] - 4s 44ms/step - loss: 2.1621 - accuracy: 0.1461 - val_loss: 2.1390 - val_accuracy: 0.1667\n",
      "Epoch 3/20\n",
      "89/89 [==============================] - 4s 44ms/step - loss: 2.1526 - accuracy: 0.1685 - val_loss: 2.1351 - val_accuracy: 0.2222\n",
      "Epoch 4/20\n",
      "89/89 [==============================] - 4s 44ms/step - loss: 2.1412 - accuracy: 0.1798 - val_loss: 2.1454 - val_accuracy: 0.1852\n",
      "Epoch 5/20\n",
      "89/89 [==============================] - 4s 44ms/step - loss: 2.1327 - accuracy: 0.1966 - val_loss: 2.1416 - val_accuracy: 0.2222\n",
      "Epoch 6/20\n",
      "89/89 [==============================] - 4s 44ms/step - loss: 2.1287 - accuracy: 0.1573 - val_loss: 2.1119 - val_accuracy: 0.1852\n",
      "Epoch 7/20\n",
      "89/89 [==============================] - 4s 44ms/step - loss: 2.1104 - accuracy: 0.1742 - val_loss: 2.0892 - val_accuracy: 0.2037\n",
      "Epoch 8/20\n",
      "89/89 [==============================] - 4s 44ms/step - loss: 2.0931 - accuracy: 0.2135 - val_loss: 2.0578 - val_accuracy: 0.2963\n",
      "Epoch 9/20\n",
      "89/89 [==============================] - 4s 43ms/step - loss: 2.0922 - accuracy: 0.2135 - val_loss: 2.1035 - val_accuracy: 0.1667\n",
      "Epoch 10/20\n",
      "89/89 [==============================] - 4s 43ms/step - loss: 2.0775 - accuracy: 0.1910 - val_loss: 2.0887 - val_accuracy: 0.1296\n",
      "Epoch 11/20\n",
      "89/89 [==============================] - 4s 44ms/step - loss: 2.1015 - accuracy: 0.1910 - val_loss: 2.0592 - val_accuracy: 0.2222\n",
      "Epoch 12/20\n",
      "89/89 [==============================] - 4s 44ms/step - loss: 2.0718 - accuracy: 0.2135 - val_loss: 2.0432 - val_accuracy: 0.2407\n",
      "Epoch 13/20\n",
      "89/89 [==============================] - 4s 43ms/step - loss: 2.1147 - accuracy: 0.1798 - val_loss: 2.1244 - val_accuracy: 0.1296\n",
      "Epoch 14/20\n",
      "89/89 [==============================] - 4s 42ms/step - loss: 2.0999 - accuracy: 0.1461 - val_loss: 2.0800 - val_accuracy: 0.2037\n",
      "Epoch 15/20\n",
      "89/89 [==============================] - 4s 42ms/step - loss: 2.0912 - accuracy: 0.2191 - val_loss: 2.0907 - val_accuracy: 0.1481\n",
      "Epoch 16/20\n",
      "89/89 [==============================] - 4s 42ms/step - loss: 2.1261 - accuracy: 0.1461 - val_loss: 2.0908 - val_accuracy: 0.1667\n",
      "Epoch 17/20\n",
      "89/89 [==============================] - 4s 42ms/step - loss: 2.0423 - accuracy: 0.2528 - val_loss: 2.1210 - val_accuracy: 0.1852\n",
      "Epoch 18/20\n",
      "89/89 [==============================] - 4s 42ms/step - loss: 2.1260 - accuracy: 0.1742 - val_loss: 2.0483 - val_accuracy: 0.1667\n",
      "Epoch 19/20\n",
      "89/89 [==============================] - 4s 43ms/step - loss: 2.1201 - accuracy: 0.1629 - val_loss: 2.0717 - val_accuracy: 0.2222\n",
      "Epoch 20/20\n",
      "89/89 [==============================] - 4s 42ms/step - loss: 2.1045 - accuracy: 0.1292 - val_loss: 2.0932 - val_accuracy: 0.1667\n"
     ]
    },
    {
     "data": {
      "text/plain": [
       "<keras.callbacks.History at 0x1e809cbc340>"
      ]
     },
     "execution_count": 15,
     "metadata": {},
     "output_type": "execute_result"
    }
   ],
   "source": [
    "model.fit(x_train,steps_per_epoch=89,epochs=20,validation_data=x_test,validation_steps=27)"
   ]
  },
  {
   "cell_type": "markdown",
   "id": "d7878ea8",
   "metadata": {},
   "source": [
    "# Save the Model"
   ]
  },
  {
   "cell_type": "code",
   "execution_count": 16,
   "id": "6dad00d5",
   "metadata": {},
   "outputs": [],
   "source": [
    "model.save('vegetable.h5')"
   ]
  },
  {
   "cell_type": "code",
   "execution_count": 17,
   "id": "a674e2ab",
   "metadata": {},
   "outputs": [
    {
     "name": "stdout",
     "output_type": "stream",
     "text": [
      "Model: \"sequential_1\"\n",
      "_________________________________________________________________\n",
      " Layer (type)                Output Shape              Param #   \n",
      "=================================================================\n",
      " max_pooling2d (MaxPooling2D  (None, None, None, None)  0        \n",
      " )                                                               \n",
      "                                                                 \n",
      " flatten (Flatten)           (None, None)              0         \n",
      "                                                                 \n",
      " dense (Dense)               (None, 300)               3686700   \n",
      "                                                                 \n",
      " dense_1 (Dense)             (None, 150)               45150     \n",
      "                                                                 \n",
      " dense_2 (Dense)             (None, 75)                11325     \n",
      "                                                                 \n",
      " dense_3 (Dense)             (None, 9)                 684       \n",
      "                                                                 \n",
      " dense_4 (Dense)             (None, 9)                 90        \n",
      "                                                                 \n",
      "=================================================================\n",
      "Total params: 3,743,949\n",
      "Trainable params: 3,743,949\n",
      "Non-trainable params: 0\n",
      "_________________________________________________________________\n"
     ]
    }
   ],
   "source": [
    "model.summary()"
   ]
  }
 ],
 "metadata": {
  "kernelspec": {
   "display_name": "Python 3 (ipykernel)",
   "language": "python",
   "name": "python3"
  },
  "language_info": {
   "codemirror_mode": {
    "name": "ipython",
    "version": 3
   },
   "file_extension": ".py",
   "mimetype": "text/x-python",
   "name": "python",
   "nbconvert_exporter": "python",
   "pygments_lexer": "ipython3",
   "version": "3.9.12"
  }
 },
 "nbformat": 4,
 "nbformat_minor": 5
}
