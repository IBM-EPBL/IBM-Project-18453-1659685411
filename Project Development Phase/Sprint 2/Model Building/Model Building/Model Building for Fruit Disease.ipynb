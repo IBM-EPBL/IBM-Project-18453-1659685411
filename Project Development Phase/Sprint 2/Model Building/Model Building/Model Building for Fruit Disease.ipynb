{
 "cells": [
  {
   "cell_type": "markdown",
   "id": "86c7e1b3",
   "metadata": {},
   "source": [
    "# TEAM ID: PNT2022TMID45468"
   ]
  },
  {
   "cell_type": "markdown",
   "id": "efdf65a4",
   "metadata": {},
   "source": [
    "# Model Building for Fruit Disease"
   ]
  },
  {
   "cell_type": "code",
   "execution_count": 1,
   "id": "01cfe0f2",
   "metadata": {},
   "outputs": [],
   "source": [
    "from keras.preprocessing.image import ImageDataGenerator\n",
    "train_datagen=ImageDataGenerator(rescale=1./255,shear_range=0.2,zoom_range=0.2,horizontal_flip=True)\n",
    "test_datagen=ImageDataGenerator(rescale=1)"
   ]
  },
  {
   "cell_type": "code",
   "execution_count": 15,
   "id": "8675a52c",
   "metadata": {},
   "outputs": [
    {
     "name": "stdout",
     "output_type": "stream",
     "text": [
      "Found 1686 images belonging to 6 classes.\n",
      "Found 5384 images belonging to 6 classes.\n"
     ]
    }
   ],
   "source": [
    "x_test=test_datagen.flow_from_directory(r'C:\\Users\\mstof\\OneDrive\\Desktop\\Dataset\\Dataset Plant Disease\\fruit-dataset\\fruit-dataset\\test',target_size=(128,128),batch_size=2,class_mode='categorical')\n",
    "x_train=train_datagen.flow_from_directory(r'C:\\Users\\mstof\\OneDrive\\Desktop\\Dataset\\Dataset Plant Disease\\fruit-dataset\\fruit-dataset\\train',target_size=(128,128),batch_size=2,class_mode='categorical')"
   ]
  },
  {
   "cell_type": "code",
   "execution_count": 16,
   "id": "00f9c6f9",
   "metadata": {},
   "outputs": [],
   "source": [
    "from keras.models import Sequential\n",
    "from keras.layers import Dense\n",
    "from keras.layers import Convolution2D\n",
    "from keras.layers import MaxPooling2D\n",
    "from keras.layers import Flatten"
   ]
  },
  {
   "cell_type": "code",
   "execution_count": 17,
   "id": "6c12d332",
   "metadata": {},
   "outputs": [],
   "source": [
    "model=Sequential()"
   ]
  },
  {
   "cell_type": "code",
   "execution_count": 18,
   "id": "9f3ca7bb",
   "metadata": {},
   "outputs": [],
   "source": [
    "model.add(Convolution2D(32,(3,3),input_shape=(128,128,3),activation='relu'))"
   ]
  },
  {
   "cell_type": "code",
   "execution_count": 19,
   "id": "af7bb53c",
   "metadata": {},
   "outputs": [],
   "source": [
    "model.add(MaxPooling2D(pool_size=(2,2)))"
   ]
  },
  {
   "cell_type": "code",
   "execution_count": 20,
   "id": "2f49f400",
   "metadata": {},
   "outputs": [],
   "source": [
    "model.add(Flatten())"
   ]
  },
  {
   "cell_type": "code",
   "execution_count": 21,
   "id": "a5a5729d",
   "metadata": {},
   "outputs": [],
   "source": [
    "model.add(Dense(units=40,kernel_initializer='uniform',activation='relu'))"
   ]
  },
  {
   "cell_type": "code",
   "execution_count": 22,
   "id": "fba11b6d",
   "metadata": {},
   "outputs": [],
   "source": [
    "model.add(Dense(units=20,kernel_initializer='random_uniform',activation='relu'))"
   ]
  },
  {
   "cell_type": "code",
   "execution_count": 23,
   "id": "fe0515e7",
   "metadata": {},
   "outputs": [],
   "source": [
    "model.add(Dense(units=6,kernel_initializer='random_uniform',activation='softmax'))"
   ]
  },
  {
   "cell_type": "code",
   "execution_count": 24,
   "id": "b968800c",
   "metadata": {},
   "outputs": [],
   "source": [
    "model.compile(loss='categorical_crossentropy',optimizer=\"adam\",metrics=[\"accuracy\"])"
   ]
  },
  {
   "cell_type": "code",
   "execution_count": 25,
   "id": "d859bcc1",
   "metadata": {},
   "outputs": [
    {
     "name": "stdout",
     "output_type": "stream",
     "text": [
      "Epoch 1/20\n",
      "89/89 [==============================] - 8s 73ms/step - loss: 3.0223 - accuracy: 0.3652 - val_loss: 1.7836 - val_accuracy: 0.4815\n",
      "Epoch 2/20\n",
      "89/89 [==============================] - 6s 64ms/step - loss: 1.0476 - accuracy: 0.5787 - val_loss: 1.7752 - val_accuracy: 0.2963\n",
      "Epoch 3/20\n",
      "89/89 [==============================] - 6s 63ms/step - loss: 1.0949 - accuracy: 0.6348 - val_loss: 1.7787 - val_accuracy: 0.3519\n",
      "Epoch 4/20\n",
      "89/89 [==============================] - 6s 64ms/step - loss: 0.8780 - accuracy: 0.6629 - val_loss: 1.7613 - val_accuracy: 0.4630\n",
      "Epoch 5/20\n",
      "89/89 [==============================] - 6s 64ms/step - loss: 0.8506 - accuracy: 0.6910 - val_loss: 1.7575 - val_accuracy: 0.4630\n",
      "Epoch 6/20\n",
      "89/89 [==============================] - 6s 64ms/step - loss: 0.7806 - accuracy: 0.7247 - val_loss: 1.7652 - val_accuracy: 0.2407\n",
      "Epoch 7/20\n",
      "89/89 [==============================] - 6s 65ms/step - loss: 0.7318 - accuracy: 0.7584 - val_loss: 1.7559 - val_accuracy: 0.2963\n",
      "Epoch 8/20\n",
      "89/89 [==============================] - 6s 63ms/step - loss: 0.5242 - accuracy: 0.8427 - val_loss: 1.7565 - val_accuracy: 0.2778\n",
      "Epoch 9/20\n",
      "89/89 [==============================] - 6s 63ms/step - loss: 0.4685 - accuracy: 0.8315 - val_loss: 1.7487 - val_accuracy: 0.3704\n",
      "Epoch 10/20\n",
      "89/89 [==============================] - 6s 64ms/step - loss: 0.5987 - accuracy: 0.8539 - val_loss: 1.7711 - val_accuracy: 0.2037\n",
      "Epoch 11/20\n",
      "89/89 [==============================] - 6s 64ms/step - loss: 0.4089 - accuracy: 0.8483 - val_loss: 1.7651 - val_accuracy: 0.2037\n",
      "Epoch 12/20\n",
      "89/89 [==============================] - 6s 64ms/step - loss: 0.5640 - accuracy: 0.8146 - val_loss: 1.7631 - val_accuracy: 0.2037\n",
      "Epoch 13/20\n",
      "89/89 [==============================] - 6s 66ms/step - loss: 0.7161 - accuracy: 0.7584 - val_loss: 1.7685 - val_accuracy: 0.2037\n",
      "Epoch 14/20\n",
      "89/89 [==============================] - 6s 66ms/step - loss: 0.5551 - accuracy: 0.8315 - val_loss: 1.7417 - val_accuracy: 0.2778\n",
      "Epoch 15/20\n",
      "89/89 [==============================] - 6s 64ms/step - loss: 0.3168 - accuracy: 0.8820 - val_loss: 1.7343 - val_accuracy: 0.2593\n",
      "Epoch 16/20\n",
      "89/89 [==============================] - 6s 64ms/step - loss: 0.4241 - accuracy: 0.8596 - val_loss: 1.7524 - val_accuracy: 0.2593\n",
      "Epoch 17/20\n",
      "89/89 [==============================] - 6s 64ms/step - loss: 0.4971 - accuracy: 0.8539 - val_loss: 1.7564 - val_accuracy: 0.1481\n",
      "Epoch 18/20\n",
      "89/89 [==============================] - 6s 67ms/step - loss: 0.9142 - accuracy: 0.7416 - val_loss: 1.7767 - val_accuracy: 0.2407\n",
      "Epoch 19/20\n",
      "89/89 [==============================] - 6s 66ms/step - loss: 0.4471 - accuracy: 0.8483 - val_loss: 1.7018 - val_accuracy: 0.3333\n",
      "Epoch 20/20\n",
      "89/89 [==============================] - 6s 64ms/step - loss: 0.9129 - accuracy: 0.7528 - val_loss: 1.7403 - val_accuracy: 0.2037\n"
     ]
    },
    {
     "data": {
      "text/plain": [
       "<keras.callbacks.History at 0x1e40001cfa0>"
      ]
     },
     "execution_count": 25,
     "metadata": {},
     "output_type": "execute_result"
    }
   ],
   "source": [
    "model.fit(x_test,steps_per_epoch=89,epochs=20,validation_data=x_train,validation_steps=27)"
   ]
  },
  {
   "cell_type": "markdown",
   "id": "ef4584fc",
   "metadata": {},
   "source": [
    "# Save the Model"
   ]
  },
  {
   "cell_type": "code",
   "execution_count": 26,
   "id": "efa8a2d9",
   "metadata": {},
   "outputs": [],
   "source": [
    "model.save('fruit.h5')"
   ]
  },
  {
   "cell_type": "code",
   "execution_count": 28,
   "id": "d0ef3abb",
   "metadata": {},
   "outputs": [
    {
     "name": "stdout",
     "output_type": "stream",
     "text": [
      "Model: \"sequential_1\"\n",
      "_________________________________________________________________\n",
      " Layer (type)                Output Shape              Param #   \n",
      "=================================================================\n",
      " conv2d_1 (Conv2D)           (None, 126, 126, 32)      896       \n",
      "                                                                 \n",
      " max_pooling2d_1 (MaxPooling  (None, 63, 63, 32)       0         \n",
      " 2D)                                                             \n",
      "                                                                 \n",
      " flatten_1 (Flatten)         (None, 127008)            0         \n",
      "                                                                 \n",
      " dense_3 (Dense)             (None, 40)                5080360   \n",
      "                                                                 \n",
      " dense_4 (Dense)             (None, 20)                820       \n",
      "                                                                 \n",
      " dense_5 (Dense)             (None, 6)                 126       \n",
      "                                                                 \n",
      "=================================================================\n",
      "Total params: 5,082,202\n",
      "Trainable params: 5,082,202\n",
      "Non-trainable params: 0\n",
      "_________________________________________________________________\n"
     ]
    }
   ],
   "source": [
    "model.summary()"
   ]
  }
 ],
 "metadata": {
  "kernelspec": {
   "display_name": "Python 3 (ipykernel)",
   "language": "python",
   "name": "python3"
  },
  "language_info": {
   "codemirror_mode": {
    "name": "ipython",
    "version": 3
   },
   "file_extension": ".py",
   "mimetype": "text/x-python",
   "name": "python",
   "nbconvert_exporter": "python",
   "pygments_lexer": "ipython3",
   "version": "3.9.12"
  }
 },
 "nbformat": 4,
 "nbformat_minor": 5
}
